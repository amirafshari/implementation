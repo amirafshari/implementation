{
 "cells": [
  {
   "cell_type": "code",
   "execution_count": 2,
   "id": "e72fefb6-d57e-4754-8754-85e3765126b6",
   "metadata": {},
   "outputs": [],
   "source": [
    "import torch\n",
    "import torch.nn as nn\n",
    "import torch.nn.functional as F"
   ]
  },
  {
   "attachments": {},
   "cell_type": "markdown",
   "id": "617b8812",
   "metadata": {},
   "source": [
    "# Network"
   ]
  },
  {
   "cell_type": "code",
   "execution_count": 53,
   "id": "6fcfc01e-7408-442a-b459-b5518659feda",
   "metadata": {},
   "outputs": [],
   "source": [
    "class LeNet(nn.Module):\n",
    "    def __init__(self, in_channels: int = 1, num_classes: int =10):\n",
    "        super(LeNet, self).__init__()\n",
    "\n",
    "\n",
    "        self.conv1 = nn.Conv2d(in_channels=in_channels, out_channels=6, kernel_size=5) \n",
    "        self.conv2 = nn.Conv2d(in_channels=6, out_channels=16, kernel_size=5) \n",
    "        \n",
    "        self.fc1 = nn.Linear(16*4*4, 120) # 16*5*5 for CIFAR10 and 16*4*4 for MNIST\n",
    "        self.fc2 = nn.Linear(120, 84)\n",
    "        self.fc3 = nn.Linear(84, num_classes)\n",
    "        \n",
    "        \n",
    "    def forward(self, x):\n",
    "        x = F.max_pool2d(F.relu(self.conv1(x)), (2, 2))\n",
    "        x = F.max_pool2d(F.relu(self.conv2(x)), (2, 2))\n",
    "        x = torch.flatten(x, 1)\n",
    "        x = F.relu(self.fc1(x))\n",
    "        x = F.relu(self.fc2(x))\n",
    "        x = self.fc3(x)\n",
    "        \n",
    "        return x\n",
    "        "
   ]
  },
  {
   "cell_type": "code",
   "execution_count": 10,
   "id": "d5b9036b",
   "metadata": {},
   "outputs": [],
   "source": [
    "class LeNet(nn.Module):\n",
    "\n",
    "        '''\n",
    "        Conv layer / MaxPool output shape formula: [(Width − KernelSize + 2Padding) / Stride] + 1\n",
    "\n",
    "        Default Stride for nn.Conv2D == 1\n",
    "        //       //     // nn.MaxPool2D == Kernel Size\n",
    "\n",
    "\n",
    "\n",
    "        MNIST for Example:\n",
    "        '''\n",
    "\n",
    "    def __init__(self, num_classes: int =10, in_channels: int = 1):\n",
    "        super(LeNet, self).__init__()\n",
    "    \n",
    "        self.features = nn.Sequential(\n",
    "            nn.Conv2d(in_channels=in_channels, out_channels=6, kernel_size=(5,5)), # (28-5 + 2*0 / 1) + 1 == 24 --> 24*24*6\n",
    "            nn.ReLU(inplace=True),\n",
    "            nn.MaxPool2d(kernel_size=(2,2)), # (24-2 + 2*0 / 2) + 1 == 12 --> 12*12*6\n",
    "            \n",
    "            nn.Conv2d(in_channels=6, out_channels=16, kernel_size=(5,5)), # (12-5 + 2*0 / 1) + 1 == 9 --> 9*9*16\n",
    "            nn.ReLU(inplace=True),\n",
    "            nn.MaxPool2d(kernel_size=(2,2)), # (9 - 2 + 2*0 / 2 + 1 == 4 --> 4*4*16)\n",
    "        )\n",
    "        \n",
    "        \n",
    "        self.fc = nn.Sequential(\n",
    "        nn.Linear(16*4*4, 120),\n",
    "        nn.ReLU(inplace=True),\n",
    "        nn.Linear(120, 84),\n",
    "        nn.ReLU(inplace=True),\n",
    "        nn.Linear(84, num_classes),\n",
    "        )\n",
    "        \n",
    "        \n",
    "    def forward(self, x):\n",
    "        x = self.features(x)\n",
    "        x = torch.flatten(x, 1) # can't use nn.Flatten(x, 1)\n",
    "        x = self.fc(x)\n",
    "        return x"
   ]
  },
  {
   "cell_type": "markdown",
   "id": "c5aa268c",
   "metadata": {},
   "source": [
    "# Data"
   ]
  },
  {
   "cell_type": "markdown",
   "id": "3960be4a",
   "metadata": {},
   "source": [
    "### MNIST"
   ]
  },
  {
   "cell_type": "code",
   "execution_count": 11,
   "id": "b8460c4e",
   "metadata": {},
   "outputs": [],
   "source": [
    "import torchvision\n",
    "\n",
    "# Load the MNIST dataset\n",
    "mnist_train = torchvision.datasets.MNIST(\n",
    "    root='../data',\n",
    "    train=True,\n",
    "    download=True,\n",
    "    transform=torchvision.transforms.ToTensor()\n",
    ")\n",
    "\n",
    "# Load the MNIST test dataset\n",
    "mnist_test = torchvision.datasets.MNIST(\n",
    "    root='../data',\n",
    "    train=False,\n",
    "    download=True,\n",
    "    transform=torchvision.transforms.ToTensor()\n",
    ")\n",
    "\n",
    "train_loader = torch.utils.data.DataLoader(mnist_train, batch_size=16, shuffle=True)"
   ]
  },
  {
   "cell_type": "markdown",
   "id": "52206d6a",
   "metadata": {},
   "source": [
    "### CIFAR10"
   ]
  },
  {
   "cell_type": "code",
   "execution_count": 38,
   "id": "2aa1733a",
   "metadata": {},
   "outputs": [
    {
     "name": "stdout",
     "output_type": "stream",
     "text": [
      "Files already downloaded and verified\n",
      "Files already downloaded and verified\n"
     ]
    }
   ],
   "source": [
    "import torchvision\n",
    "\n",
    "# Load the cifar10 dataset\n",
    "cifar10_train = torchvision.datasets.CIFAR10(\n",
    "    root='../data',\n",
    "    train=True,\n",
    "    download=True,\n",
    "    transform=torchvision.transforms.ToTensor()\n",
    ")\n",
    "\n",
    "# Load the cifar10 test dataset\n",
    "cifar10_test = torchvision.datasets.CIFAR10(\n",
    "    root='../data',\n",
    "    train=False,\n",
    "    download=True,\n",
    "    transform=torchvision.transforms.ToTensor()\n",
    ")\n",
    "\n",
    "train_loader = torch.utils.data.DataLoader(cifar10_train, batch_size=16, shuffle=True)"
   ]
  },
  {
   "attachments": {},
   "cell_type": "markdown",
   "id": "8b5203f2",
   "metadata": {},
   "source": [
    "# Train"
   ]
  },
  {
   "cell_type": "code",
   "execution_count": 54,
   "id": "7ba0cf8c",
   "metadata": {},
   "outputs": [
    {
     "name": "stdout",
     "output_type": "stream",
     "text": [
      "Epoch: 0, Loss: 7105.69140625\n",
      "Epoch: 1, Loss: 6044.060546875\n",
      "Epoch: 2, Loss: 5220.2109375\n",
      "Epoch: 3, Loss: 4693.55029296875\n",
      "Epoch: 4, Loss: 4418.4443359375\n",
      "Epoch: 5, Loss: 4216.78662109375\n",
      "Epoch: 6, Loss: 4047.238037109375\n",
      "Epoch: 7, Loss: 3898.958251953125\n",
      "Epoch: 8, Loss: 3766.83984375\n",
      "Epoch: 9, Loss: 3640.83642578125\n"
     ]
    }
   ],
   "source": [
    "import torch.optim as optim\n",
    "\n",
    "net = LeNet(in_channels=3)\n",
    "\n",
    "optimizer = optim.SGD(net.parameters(), lr=0.01)\n",
    "# criterion = nn.MSELoss()\n",
    "criterion = nn.CrossEntropyLoss()\n",
    "\n",
    "epochs = 10\n",
    "for epoch in range(epochs):\n",
    "    epoch_loss = 0\n",
    "    \n",
    "    for batch in train_loader:\n",
    "        X, y = batch[0], batch[1]\n",
    "\n",
    "        optimizer.zero_grad()\n",
    "\n",
    "        output = net(X)\n",
    "\n",
    "        loss = criterion(output, y)\n",
    "        loss.backward()\n",
    "        optimizer.step()\n",
    "        epoch_loss += loss\n",
    "\n",
    "    print(f'Epoch: {epoch}, Loss: {epoch_loss}')\n"
   ]
  },
  {
   "cell_type": "code",
   "execution_count": null,
   "id": "933a1553",
   "metadata": {},
   "outputs": [],
   "source": []
  }
 ],
 "metadata": {
  "kernelspec": {
   "display_name": "Python 3",
   "language": "python",
   "name": "python3"
  },
  "language_info": {
   "codemirror_mode": {
    "name": "ipython",
    "version": 3
   },
   "file_extension": ".py",
   "mimetype": "text/x-python",
   "name": "python",
   "nbconvert_exporter": "python",
   "pygments_lexer": "ipython3",
   "version": "3.11.4"
  },
  "vscode": {
   "interpreter": {
    "hash": "e7370f93d1d0cde622a1f8e1c04877d8463912d04d973331ad4851f04de6915a"
   }
  }
 },
 "nbformat": 4,
 "nbformat_minor": 5
}
