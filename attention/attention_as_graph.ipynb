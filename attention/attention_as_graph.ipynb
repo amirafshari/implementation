{
  "nbformat": 4,
  "nbformat_minor": 0,
  "metadata": {
    "colab": {
      "provenance": []
    },
    "kernelspec": {
      "name": "python3",
      "display_name": "Python 3"
    },
    "language_info": {
      "name": "python"
    }
  },
  "cells": [
    {
      "cell_type": "code",
      "source": [
        "import numpy as np"
      ],
      "metadata": {
        "id": "o0RGNHUbAEo1"
      },
      "execution_count": 1,
      "outputs": []
    },
    {
      "cell_type": "code",
      "execution_count": 2,
      "metadata": {
        "id": "3ic55UMB_94L"
      },
      "outputs": [],
      "source": [
        "class Node:\n",
        "  def __init__(self):\n",
        "    # the vector stored at this node\n",
        "    self.data = np.random.randn(20, 20)\n",
        "\n",
        "    # weight governing how this node interacts with other nodes\n",
        "    self.wkey = np.random.randn(20, 20)\n",
        "    self.wquery = np.random.randn(20, 20)\n",
        "    self.wvalue = np.random.randn(20, 20)\n",
        "\n",
        "  def key(self):\n",
        "    # what do I have?\n",
        "    return self.wkey @ self.data\n",
        "\n",
        "  def query(self):\n",
        "    # what am I looking for?\n",
        "    return self.wquery @ self.data\n",
        "\n",
        "  def value(self):\n",
        "    # what do I publicly reveal/broadcast to others?\n",
        "    return self.wvalue @ self.data"
      ]
    },
    {
      "cell_type": "code",
      "source": [
        "class Graph:\n",
        "  def __init__(self):\n",
        "\n",
        "    # make 10 nodes\n",
        "    self.nodes = [Node() for _ in range(10)]\n",
        "\n",
        "    # make 40 edges\n",
        "    randi = lambda: np.random.randint(len(self.nodes))\n",
        "    self.edges = [[randi(), randi()] for _ in range(40)]\n",
        "\n",
        "  def run(self):\n",
        "\n",
        "    updates = []\n",
        "    for i, n in enumerate(self.nodes):\n",
        "\n",
        "      # what is this node looking for?\n",
        "      q = n.query()\n",
        "\n",
        "      # find all edges that are input to this node\n",
        "      inputs = [self.nodes[ifrom] for (ifrom, ito) in self.edges if ito == i]\n",
        "      if len(inputs) == 0:\n",
        "        continue # ignore\n",
        "\n",
        "      # gather their keys, i.e. what they hold\n",
        "      keys = [m.key() for m in inputs]\n",
        "      # calculate the compatibilities\n",
        "      scores = [k.dot(q) for k in keys]\n",
        "      # softmax them so they sum to 1\n",
        "      scores = np.exp(scores)\n",
        "      scores = scores / np.sum(scores)\n",
        "      # gather the appropriate values with a weighted sum\n",
        "      values = [m.value() for m in inputs]\n",
        "      update = sum([s * v for s, v in zip(scores, values)])\n",
        "      updates.append(update)\n",
        "\n",
        "      for n, u in zip(self.nodes, updates):\n",
        "        n.data = n.data+ u # residual connection"
      ],
      "metadata": {
        "id": "3OnK-QJhCkoV"
      },
      "execution_count": 7,
      "outputs": []
    },
    {
      "cell_type": "code",
      "source": [
        "g = Graph()"
      ],
      "metadata": {
        "id": "lCpm-AbsGFGJ"
      },
      "execution_count": 14,
      "outputs": []
    }
  ]
}